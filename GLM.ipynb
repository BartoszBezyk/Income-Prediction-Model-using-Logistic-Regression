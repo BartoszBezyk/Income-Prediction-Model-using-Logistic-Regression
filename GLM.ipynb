{
  "cells": [
    {
      "cell_type": "markdown",
      "source": [
        "# Project Objective\n",
        "\n",
        "The goal of this project is to develop a model (logistic regression) that predicts an individual's income based on given data, classifying it as either below 50k annually or above 50k annually."
      ],
      "metadata": {
        "id": "VkdXa6sYDsvD"
      }
    },
    {
      "cell_type": "markdown",
      "metadata": {
        "id": "HgpqxP8leaRs"
      },
      "source": [
        "# Importing data and packagaes"
      ]
    },
    {
      "cell_type": "code",
      "source": [
        "install.packages('ggplot2')\n",
        "install.packages('caret')\n",
        "install.packages('dplyr')\n",
        "install.packages('stats')\n",
        "install.packages('pROC')"
      ],
      "metadata": {
        "colab": {
          "base_uri": "https://localhost:8080/"
        },
        "id": "6ZfsyoI2ENTB",
        "outputId": "2c2e2994-e36c-462f-9d44-690cb8c6579e"
      },
      "execution_count": null,
      "outputs": [
        {
          "output_type": "stream",
          "name": "stderr",
          "text": [
            "Installing package into ‘/usr/local/lib/R/site-library’\n",
            "(as ‘lib’ is unspecified)\n",
            "\n",
            "Installing package into ‘/usr/local/lib/R/site-library’\n",
            "(as ‘lib’ is unspecified)\n",
            "\n",
            "Warning message:\n",
            "“package ‘stats’ is a base package, and should not be updated”\n",
            "Installing package into ‘/usr/local/lib/R/site-library’\n",
            "(as ‘lib’ is unspecified)\n",
            "\n"
          ]
        }
      ]
    },
    {
      "cell_type": "code",
      "execution_count": null,
      "metadata": {
        "id": "j_ygKZhGWNAX"
      },
      "outputs": [],
      "source": [
        "library(ggplot2)\n",
        "library(caret)\n",
        "library(dplyr)\n",
        "library(stats)\n",
        "library(pROC)"
      ]
    },
    {
      "cell_type": "code",
      "execution_count": null,
      "metadata": {
        "colab": {
          "base_uri": "https://localhost:8080/",
          "height": 410
        },
        "id": "-HMH5vn3eWbi",
        "outputId": "7fc039c2-5b95-461f-bd6a-58145fd5a641"
      },
      "outputs": [
        {
          "output_type": "display_data",
          "data": {
            "text/html": [
              "<table class=\"dataframe\">\n",
              "<caption>A data.frame: 6 × 15</caption>\n",
              "<thead>\n",
              "\t<tr><th></th><th scope=col>age</th><th scope=col>workclass</th><th scope=col>fnlwgt</th><th scope=col>education</th><th scope=col>educational.num</th><th scope=col>marital.status</th><th scope=col>occupation</th><th scope=col>relationship</th><th scope=col>race</th><th scope=col>gender</th><th scope=col>capital.gain</th><th scope=col>capital.loss</th><th scope=col>hours.per.week</th><th scope=col>native.country</th><th scope=col>income</th></tr>\n",
              "\t<tr><th></th><th scope=col>&lt;int&gt;</th><th scope=col>&lt;chr&gt;</th><th scope=col>&lt;int&gt;</th><th scope=col>&lt;chr&gt;</th><th scope=col>&lt;int&gt;</th><th scope=col>&lt;chr&gt;</th><th scope=col>&lt;chr&gt;</th><th scope=col>&lt;chr&gt;</th><th scope=col>&lt;chr&gt;</th><th scope=col>&lt;chr&gt;</th><th scope=col>&lt;int&gt;</th><th scope=col>&lt;int&gt;</th><th scope=col>&lt;int&gt;</th><th scope=col>&lt;chr&gt;</th><th scope=col>&lt;chr&gt;</th></tr>\n",
              "</thead>\n",
              "<tbody>\n",
              "\t<tr><th scope=row>1</th><td>25</td><td><span style=white-space:pre-wrap>Private  </span></td><td>226802</td><td><span style=white-space:pre-wrap>11th        </span></td><td> 7</td><td><span style=white-space:pre-wrap>Never-married     </span></td><td>Machine-op-inspct</td><td><span style=white-space:pre-wrap>Own-child    </span></td><td>Black</td><td><span style=white-space:pre-wrap>Male  </span></td><td><span style=white-space:pre-wrap>   0</span></td><td>0</td><td>40</td><td>United-States</td><td>&lt;=50K</td></tr>\n",
              "\t<tr><th scope=row>2</th><td>38</td><td><span style=white-space:pre-wrap>Private  </span></td><td> 89814</td><td><span style=white-space:pre-wrap>HS-grad     </span></td><td> 9</td><td>Married-civ-spouse</td><td><span style=white-space:pre-wrap>Farming-fishing  </span></td><td><span style=white-space:pre-wrap>Husband      </span></td><td>White</td><td><span style=white-space:pre-wrap>Male  </span></td><td><span style=white-space:pre-wrap>   0</span></td><td>0</td><td>50</td><td>United-States</td><td>&lt;=50K</td></tr>\n",
              "\t<tr><th scope=row>3</th><td>28</td><td>Local-gov</td><td>336951</td><td><span style=white-space:pre-wrap>Assoc-acdm  </span></td><td>12</td><td>Married-civ-spouse</td><td><span style=white-space:pre-wrap>Protective-serv  </span></td><td><span style=white-space:pre-wrap>Husband      </span></td><td>White</td><td><span style=white-space:pre-wrap>Male  </span></td><td><span style=white-space:pre-wrap>   0</span></td><td>0</td><td>40</td><td>United-States</td><td>&gt;50K </td></tr>\n",
              "\t<tr><th scope=row>4</th><td>44</td><td><span style=white-space:pre-wrap>Private  </span></td><td>160323</td><td>Some-college</td><td>10</td><td>Married-civ-spouse</td><td>Machine-op-inspct</td><td><span style=white-space:pre-wrap>Husband      </span></td><td>Black</td><td><span style=white-space:pre-wrap>Male  </span></td><td>7688</td><td>0</td><td>40</td><td>United-States</td><td>&gt;50K </td></tr>\n",
              "\t<tr><th scope=row>5</th><td>18</td><td><span style=white-space:pre-wrap>?        </span></td><td>103497</td><td>Some-college</td><td>10</td><td><span style=white-space:pre-wrap>Never-married     </span></td><td><span style=white-space:pre-wrap>?                </span></td><td><span style=white-space:pre-wrap>Own-child    </span></td><td>White</td><td>Female</td><td><span style=white-space:pre-wrap>   0</span></td><td>0</td><td>30</td><td>United-States</td><td>&lt;=50K</td></tr>\n",
              "\t<tr><th scope=row>6</th><td>34</td><td><span style=white-space:pre-wrap>Private  </span></td><td>198693</td><td><span style=white-space:pre-wrap>10th        </span></td><td> 6</td><td><span style=white-space:pre-wrap>Never-married     </span></td><td><span style=white-space:pre-wrap>Other-service    </span></td><td>Not-in-family</td><td>White</td><td><span style=white-space:pre-wrap>Male  </span></td><td><span style=white-space:pre-wrap>   0</span></td><td>0</td><td>30</td><td>United-States</td><td>&lt;=50K</td></tr>\n",
              "</tbody>\n",
              "</table>\n"
            ],
            "text/markdown": "\nA data.frame: 6 × 15\n\n| <!--/--> | age &lt;int&gt; | workclass &lt;chr&gt; | fnlwgt &lt;int&gt; | education &lt;chr&gt; | educational.num &lt;int&gt; | marital.status &lt;chr&gt; | occupation &lt;chr&gt; | relationship &lt;chr&gt; | race &lt;chr&gt; | gender &lt;chr&gt; | capital.gain &lt;int&gt; | capital.loss &lt;int&gt; | hours.per.week &lt;int&gt; | native.country &lt;chr&gt; | income &lt;chr&gt; |\n|---|---|---|---|---|---|---|---|---|---|---|---|---|---|---|---|\n| 1 | 25 | Private   | 226802 | 11th         |  7 | Never-married      | Machine-op-inspct | Own-child     | Black | Male   |    0 | 0 | 40 | United-States | &lt;=50K |\n| 2 | 38 | Private   |  89814 | HS-grad      |  9 | Married-civ-spouse | Farming-fishing   | Husband       | White | Male   |    0 | 0 | 50 | United-States | &lt;=50K |\n| 3 | 28 | Local-gov | 336951 | Assoc-acdm   | 12 | Married-civ-spouse | Protective-serv   | Husband       | White | Male   |    0 | 0 | 40 | United-States | &gt;50K  |\n| 4 | 44 | Private   | 160323 | Some-college | 10 | Married-civ-spouse | Machine-op-inspct | Husband       | Black | Male   | 7688 | 0 | 40 | United-States | &gt;50K  |\n| 5 | 18 | ?         | 103497 | Some-college | 10 | Never-married      | ?                 | Own-child     | White | Female |    0 | 0 | 30 | United-States | &lt;=50K |\n| 6 | 34 | Private   | 198693 | 10th         |  6 | Never-married      | Other-service     | Not-in-family | White | Male   |    0 | 0 | 30 | United-States | &lt;=50K |\n\n",
            "text/latex": "A data.frame: 6 × 15\n\\begin{tabular}{r|lllllllllllllll}\n  & age & workclass & fnlwgt & education & educational.num & marital.status & occupation & relationship & race & gender & capital.gain & capital.loss & hours.per.week & native.country & income\\\\\n  & <int> & <chr> & <int> & <chr> & <int> & <chr> & <chr> & <chr> & <chr> & <chr> & <int> & <int> & <int> & <chr> & <chr>\\\\\n\\hline\n\t1 & 25 & Private   & 226802 & 11th         &  7 & Never-married      & Machine-op-inspct & Own-child     & Black & Male   &    0 & 0 & 40 & United-States & <=50K\\\\\n\t2 & 38 & Private   &  89814 & HS-grad      &  9 & Married-civ-spouse & Farming-fishing   & Husband       & White & Male   &    0 & 0 & 50 & United-States & <=50K\\\\\n\t3 & 28 & Local-gov & 336951 & Assoc-acdm   & 12 & Married-civ-spouse & Protective-serv   & Husband       & White & Male   &    0 & 0 & 40 & United-States & >50K \\\\\n\t4 & 44 & Private   & 160323 & Some-college & 10 & Married-civ-spouse & Machine-op-inspct & Husband       & Black & Male   & 7688 & 0 & 40 & United-States & >50K \\\\\n\t5 & 18 & ?         & 103497 & Some-college & 10 & Never-married      & ?                 & Own-child     & White & Female &    0 & 0 & 30 & United-States & <=50K\\\\\n\t6 & 34 & Private   & 198693 & 10th         &  6 & Never-married      & Other-service     & Not-in-family & White & Male   &    0 & 0 & 30 & United-States & <=50K\\\\\n\\end{tabular}\n",
            "text/plain": [
              "  age workclass fnlwgt education    educational.num marital.status    \n",
              "1 25  Private   226802 11th          7              Never-married     \n",
              "2 38  Private    89814 HS-grad       9              Married-civ-spouse\n",
              "3 28  Local-gov 336951 Assoc-acdm   12              Married-civ-spouse\n",
              "4 44  Private   160323 Some-college 10              Married-civ-spouse\n",
              "5 18  ?         103497 Some-college 10              Never-married     \n",
              "6 34  Private   198693 10th          6              Never-married     \n",
              "  occupation        relationship  race  gender capital.gain capital.loss\n",
              "1 Machine-op-inspct Own-child     Black Male      0         0           \n",
              "2 Farming-fishing   Husband       White Male      0         0           \n",
              "3 Protective-serv   Husband       White Male      0         0           \n",
              "4 Machine-op-inspct Husband       Black Male   7688         0           \n",
              "5 ?                 Own-child     White Female    0         0           \n",
              "6 Other-service     Not-in-family White Male      0         0           \n",
              "  hours.per.week native.country income\n",
              "1 40             United-States  <=50K \n",
              "2 50             United-States  <=50K \n",
              "3 40             United-States  >50K  \n",
              "4 40             United-States  >50K  \n",
              "5 30             United-States  <=50K \n",
              "6 30             United-States  <=50K "
            ]
          },
          "metadata": {}
        }
      ],
      "source": [
        "# loading data\n",
        "data <- read.csv(\"adult.csv\", sep=',', header=TRUE)\n",
        "head(data)"
      ]
    },
    {
      "cell_type": "code",
      "execution_count": null,
      "metadata": {
        "colab": {
          "base_uri": "https://localhost:8080/"
        },
        "id": "dUo0jDK6DHag",
        "outputId": "4a58f455-70be-40e6-df2a-d6bea69939ae"
      },
      "outputs": [
        {
          "output_type": "stream",
          "name": "stdout",
          "text": [
            "'data.frame':\t48842 obs. of  15 variables:\n",
            " $ age            : int  25 38 28 44 18 34 29 63 24 55 ...\n",
            " $ workclass      : chr  \"Private\" \"Private\" \"Local-gov\" \"Private\" ...\n",
            " $ fnlwgt         : int  226802 89814 336951 160323 103497 198693 227026 104626 369667 104996 ...\n",
            " $ education      : chr  \"11th\" \"HS-grad\" \"Assoc-acdm\" \"Some-college\" ...\n",
            " $ educational.num: int  7 9 12 10 10 6 9 15 10 4 ...\n",
            " $ marital.status : chr  \"Never-married\" \"Married-civ-spouse\" \"Married-civ-spouse\" \"Married-civ-spouse\" ...\n",
            " $ occupation     : chr  \"Machine-op-inspct\" \"Farming-fishing\" \"Protective-serv\" \"Machine-op-inspct\" ...\n",
            " $ relationship   : chr  \"Own-child\" \"Husband\" \"Husband\" \"Husband\" ...\n",
            " $ race           : chr  \"Black\" \"White\" \"White\" \"Black\" ...\n",
            " $ gender         : chr  \"Male\" \"Male\" \"Male\" \"Male\" ...\n",
            " $ capital.gain   : int  0 0 0 7688 0 0 0 3103 0 0 ...\n",
            " $ capital.loss   : int  0 0 0 0 0 0 0 0 0 0 ...\n",
            " $ hours.per.week : int  40 50 40 40 30 30 40 32 40 10 ...\n",
            " $ native.country : chr  \"United-States\" \"United-States\" \"United-States\" \"United-States\" ...\n",
            " $ income         : chr  \"<=50K\" \"<=50K\" \">50K\" \">50K\" ...\n"
          ]
        }
      ],
      "source": [
        "str(data)"
      ]
    },
    {
      "cell_type": "markdown",
      "source": [
        "# Data Preprocessing"
      ],
      "metadata": {
        "id": "i2Fjckim_U_b"
      }
    },
    {
      "cell_type": "markdown",
      "metadata": {
        "id": "ew6d0cSGDHag"
      },
      "source": [
        "\n",
        "Changing the data type of the factor variable to character to avoid generating NA values when modifying certain names."
      ]
    },
    {
      "cell_type": "code",
      "execution_count": null,
      "metadata": {
        "colab": {
          "base_uri": "https://localhost:8080/",
          "height": 69
        },
        "id": "PT98eLK4DHah",
        "outputId": "80f58ead-a438-47dd-cb7e-e2650d8d76f4"
      },
      "outputs": [
        {
          "output_type": "display_data",
          "data": {
            "text/html": [
              "<style>\n",
              ".dl-inline {width: auto; margin:0; padding: 0}\n",
              ".dl-inline>dt, .dl-inline>dd {float: none; width: auto; display: inline-block}\n",
              ".dl-inline>dt::after {content: \":\\0020\"; padding-right: .5ex}\n",
              ".dl-inline>dt:not(:first-of-type) {padding-left: .5ex}\n",
              "</style><dl class=dl-inline><dt>age</dt><dd>'integer'</dd><dt>workclass</dt><dd>'character'</dd><dt>fnlwgt</dt><dd>'integer'</dd><dt>education</dt><dd>'character'</dd><dt>educational.num</dt><dd>'integer'</dd><dt>marital.status</dt><dd>'character'</dd><dt>occupation</dt><dd>'character'</dd><dt>relationship</dt><dd>'character'</dd><dt>race</dt><dd>'character'</dd><dt>gender</dt><dd>'character'</dd><dt>capital.gain</dt><dd>'integer'</dd><dt>capital.loss</dt><dd>'integer'</dd><dt>hours.per.week</dt><dd>'integer'</dd><dt>native.country</dt><dd>'character'</dd><dt>income</dt><dd>'character'</dd></dl>\n"
            ],
            "text/markdown": "age\n:   'integer'workclass\n:   'character'fnlwgt\n:   'integer'education\n:   'character'educational.num\n:   'integer'marital.status\n:   'character'occupation\n:   'character'relationship\n:   'character'race\n:   'character'gender\n:   'character'capital.gain\n:   'integer'capital.loss\n:   'integer'hours.per.week\n:   'integer'native.country\n:   'character'income\n:   'character'\n\n",
            "text/latex": "\\begin{description*}\n\\item[age] 'integer'\n\\item[workclass] 'character'\n\\item[fnlwgt] 'integer'\n\\item[education] 'character'\n\\item[educational.num] 'integer'\n\\item[marital.status] 'character'\n\\item[occupation] 'character'\n\\item[relationship] 'character'\n\\item[race] 'character'\n\\item[gender] 'character'\n\\item[capital.gain] 'integer'\n\\item[capital.loss] 'integer'\n\\item[hours.per.week] 'integer'\n\\item[native.country] 'character'\n\\item[income] 'character'\n\\end{description*}\n",
            "text/plain": [
              "            age       workclass          fnlwgt       education educational.num \n",
              "      \"integer\"     \"character\"       \"integer\"     \"character\"       \"integer\" \n",
              " marital.status      occupation    relationship            race          gender \n",
              "    \"character\"     \"character\"     \"character\"     \"character\"     \"character\" \n",
              "   capital.gain    capital.loss  hours.per.week  native.country          income \n",
              "      \"integer\"       \"integer\"       \"integer\"     \"character\"     \"character\" "
            ]
          },
          "metadata": {}
        }
      ],
      "source": [
        "cols.num <- c(\"workclass\",\"marital.status\",\"native.country\")\n",
        "data[cols.num] <- sapply(data[cols.num],as.character)\n",
        "sapply(data, class)"
      ]
    },
    {
      "cell_type": "markdown",
      "metadata": {
        "id": "j8APchKuUXBS"
      },
      "source": [
        "\n",
        "Replacing the entries \"Federal-gov\" and \"Local-gov\" with \"SL-gov\" in the type_employer column."
      ]
    },
    {
      "cell_type": "code",
      "execution_count": null,
      "metadata": {
        "colab": {
          "base_uri": "https://localhost:8080/",
          "height": 34
        },
        "id": "62xM6LsierI5",
        "outputId": "a23c9dc0-652a-4095-a1c8-f9ee9130fb72"
      },
      "outputs": [
        {
          "output_type": "display_data",
          "data": {
            "text/html": [
              "<style>\n",
              ".list-inline {list-style: none; margin:0; padding: 0}\n",
              ".list-inline>li {display: inline-block}\n",
              ".list-inline>li:not(:last-child)::after {content: \"\\00b7\"; padding: 0 .5ex}\n",
              "</style>\n",
              "<ol class=list-inline><li>'Private'</li><li>'SL-gov'</li><li>'?'</li><li>'Self-emp-not-inc'</li><li>'State-gov'</li><li>'Self-emp-inc'</li><li>'Without-pay'</li><li>'Never-worked'</li></ol>\n"
            ],
            "text/markdown": "1. 'Private'\n2. 'SL-gov'\n3. '?'\n4. 'Self-emp-not-inc'\n5. 'State-gov'\n6. 'Self-emp-inc'\n7. 'Without-pay'\n8. 'Never-worked'\n\n\n",
            "text/latex": "\\begin{enumerate*}\n\\item 'Private'\n\\item 'SL-gov'\n\\item '?'\n\\item 'Self-emp-not-inc'\n\\item 'State-gov'\n\\item 'Self-emp-inc'\n\\item 'Without-pay'\n\\item 'Never-worked'\n\\end{enumerate*}\n",
            "text/plain": [
              "[1] \"Private\"          \"SL-gov\"           \"?\"                \"Self-emp-not-inc\"\n",
              "[5] \"State-gov\"        \"Self-emp-inc\"     \"Without-pay\"      \"Never-worked\"    "
            ]
          },
          "metadata": {}
        }
      ],
      "source": [
        "data$workclass[data$workclass %in% c(\"Local-gov\",\"Federal-gov\")] <- \"SL-gov\"\n",
        "unique(data$workclass)"
      ]
    },
    {
      "cell_type": "markdown",
      "metadata": {
        "id": "htdUKw7JVIK1"
      },
      "source": [
        "Replacing the entries \"Self-emp-inc\" and \"Self-emp-not-inc\" with \"self-emp\" in the type_employer column."
      ]
    },
    {
      "cell_type": "code",
      "execution_count": null,
      "metadata": {
        "colab": {
          "base_uri": "https://localhost:8080/",
          "height": 34
        },
        "id": "q4DfOcKPVHzS",
        "outputId": "5e20f1e6-640c-482d-bb5f-d5338ce8fdc5"
      },
      "outputs": [
        {
          "output_type": "display_data",
          "data": {
            "text/html": [
              "<style>\n",
              ".list-inline {list-style: none; margin:0; padding: 0}\n",
              ".list-inline>li {display: inline-block}\n",
              ".list-inline>li:not(:last-child)::after {content: \"\\00b7\"; padding: 0 .5ex}\n",
              "</style>\n",
              "<ol class=list-inline><li>'Private'</li><li>'SL-gov'</li><li>'?'</li><li>'Self-emp'</li><li>'State-gov'</li><li>'Without-pay'</li><li>'Never-worked'</li></ol>\n"
            ],
            "text/markdown": "1. 'Private'\n2. 'SL-gov'\n3. '?'\n4. 'Self-emp'\n5. 'State-gov'\n6. 'Without-pay'\n7. 'Never-worked'\n\n\n",
            "text/latex": "\\begin{enumerate*}\n\\item 'Private'\n\\item 'SL-gov'\n\\item '?'\n\\item 'Self-emp'\n\\item 'State-gov'\n\\item 'Without-pay'\n\\item 'Never-worked'\n\\end{enumerate*}\n",
            "text/plain": [
              "[1] \"Private\"      \"SL-gov\"       \"?\"            \"Self-emp\"     \"State-gov\"   \n",
              "[6] \"Without-pay\"  \"Never-worked\""
            ]
          },
          "metadata": {}
        }
      ],
      "source": [
        "data$workclass[data$workclass %in% c(\"Self-emp-inc\",\"Self-emp-not-inc\")] <- \"Self-emp\"\n",
        "unique(data$workclass)"
      ]
    },
    {
      "cell_type": "markdown",
      "metadata": {
        "id": "FWPGRJZ2eDRo"
      },
      "source": [
        "Reducing the number of entries to three (Married, Not-Married, Never-Married) in the marital column."
      ]
    },
    {
      "cell_type": "code",
      "execution_count": null,
      "metadata": {
        "id": "xEk-HdfJVS0M"
      },
      "outputs": [],
      "source": [
        "data$marital.status[data$marital.status %in% c(\"Divorced\",\"Widowed\")] <- \"Not-Married\"\n",
        "\n",
        "data$marital.status[data$marital.status %in% c(\"Separated\", \"Married-civ-spouse\",\n",
        "                                               \"Married-spouse-absent\",\n",
        "                                               \"Married-AF-spouse\")] <- \"Married\""
      ]
    },
    {
      "cell_type": "code",
      "execution_count": null,
      "metadata": {
        "colab": {
          "base_uri": "https://localhost:8080/",
          "height": 34
        },
        "id": "7UZ6W11XVrP-",
        "outputId": "17e557e0-68af-4d6c-84c4-991469b49916"
      },
      "outputs": [
        {
          "output_type": "display_data",
          "data": {
            "text/html": [
              "<style>\n",
              ".list-inline {list-style: none; margin:0; padding: 0}\n",
              ".list-inline>li {display: inline-block}\n",
              ".list-inline>li:not(:last-child)::after {content: \"\\00b7\"; padding: 0 .5ex}\n",
              "</style>\n",
              "<ol class=list-inline><li>'Never-married'</li><li>'Married'</li><li>'Not-Married'</li></ol>\n"
            ],
            "text/markdown": "1. 'Never-married'\n2. 'Married'\n3. 'Not-Married'\n\n\n",
            "text/latex": "\\begin{enumerate*}\n\\item 'Never-married'\n\\item 'Married'\n\\item 'Not-Married'\n\\end{enumerate*}\n",
            "text/plain": [
              "[1] \"Never-married\" \"Married\"       \"Not-Married\"  "
            ]
          },
          "metadata": {}
        }
      ],
      "source": [
        "unique(data$marital.status)"
      ]
    },
    {
      "cell_type": "markdown",
      "metadata": {
        "id": "nV2HtNYeVXwk"
      },
      "source": [
        "Reducing the number of entries in the country column by grouping them by continents."
      ]
    },
    {
      "cell_type": "markdown",
      "metadata": {
        "id": "lhzswfltVfwL"
      },
      "source": [
        "The countries have been divided according to continents."
      ]
    },
    {
      "cell_type": "code",
      "execution_count": null,
      "metadata": {
        "id": "5MU1zzQTVcvX"
      },
      "outputs": [],
      "source": [
        "data$native.country[data$native.country %in% c(\"United-States\", \"Canada\", \"Outlying-US(Guam-USVI-etc)\",\n",
        "                         \"Mexico\", \"Cuba\", \"Jamaica\", \"Haiti\", \"Dominican-Republic\",\n",
        "                         \"Guatemala\", \"El-Salvador\", \"Nicaragua\", \"Trinadad&Tobago\",\n",
        "                         \"Puerto-Rico\", \"Honduras\")] <- \"North-America\"\n",
        "data$native.country[data$native.country %in% c(\"England\", \"Germany\", \"Italy\",\"Poland\",\"Portugal\",\n",
        "                         \"France\", \"Yugoslavia\", \"Scotland\", \"Greece\",\n",
        "                         \"Ireland\", \"Hungary\", \"Holand-Netherlands\")] <- \"Europe\"\n",
        "data$native.country[data$native.country %in% c(\"Ecuador\", \"Peru\", \"Columbia\", \"South\")] <- \"South-America\"\n",
        "data$native.country[data$native.country %in% c(\"India\", \"Iran\", \"Philippines\", \"Cambodia\",\n",
        "                         \"Thailand\", \"Laos\", \"Taiwan\", \"China\", \"Japan\",\n",
        "                         \"Vietnam\", \"Hong\")] <- \"Asia\""
      ]
    },
    {
      "cell_type": "code",
      "execution_count": null,
      "metadata": {
        "colab": {
          "base_uri": "https://localhost:8080/",
          "height": 34
        },
        "id": "4Zl9te9CVppr",
        "outputId": "54d93fbb-dbb5-4d4a-fe32-8f52da13a19f"
      },
      "outputs": [
        {
          "output_type": "display_data",
          "data": {
            "text/html": [
              "<style>\n",
              ".list-inline {list-style: none; margin:0; padding: 0}\n",
              ".list-inline>li {display: inline-block}\n",
              ".list-inline>li:not(:last-child)::after {content: \"\\00b7\"; padding: 0 .5ex}\n",
              "</style>\n",
              "<ol class=list-inline><li>'North-America'</li><li>'?'</li><li>'South-America'</li><li>'Europe'</li><li>'Asia'</li></ol>\n"
            ],
            "text/markdown": "1. 'North-America'\n2. '?'\n3. 'South-America'\n4. 'Europe'\n5. 'Asia'\n\n\n",
            "text/latex": "\\begin{enumerate*}\n\\item 'North-America'\n\\item '?'\n\\item 'South-America'\n\\item 'Europe'\n\\item 'Asia'\n\\end{enumerate*}\n",
            "text/plain": [
              "[1] \"North-America\" \"?\"             \"South-America\" \"Europe\"       \n",
              "[5] \"Asia\"         "
            ]
          },
          "metadata": {}
        }
      ],
      "source": [
        "unique(data$native.country)"
      ]
    },
    {
      "cell_type": "markdown",
      "metadata": {
        "id": "i5IlC-14WZoI"
      },
      "source": [
        "Replacing the entries \"?\" with NA values."
      ]
    },
    {
      "cell_type": "code",
      "execution_count": null,
      "metadata": {
        "colab": {
          "base_uri": "https://localhost:8080/",
          "height": 69
        },
        "id": "h_9154NuWYfB",
        "outputId": "7ce98d69-857d-432a-f3f1-45c5e67d0c11"
      },
      "outputs": [
        {
          "output_type": "display_data",
          "data": {
            "text/plain": [
              "\n",
              " FALSE   TRUE \n",
              "726165   6465 "
            ]
          },
          "metadata": {}
        }
      ],
      "source": [
        "data[data == \"?\"] <- NA\n",
        "table(is.na(data))"
      ]
    },
    {
      "cell_type": "markdown",
      "metadata": {
        "id": "2kE2eZJQWjRe"
      },
      "source": [
        "Removing the rows containing NA entries."
      ]
    },
    {
      "cell_type": "code",
      "execution_count": null,
      "metadata": {
        "colab": {
          "base_uri": "https://localhost:8080/",
          "height": 69
        },
        "id": "vcB3NY_2WiUj",
        "outputId": "c1ff762d-9de1-46b7-b8b8-f5560937b1f3"
      },
      "outputs": [
        {
          "output_type": "display_data",
          "data": {
            "text/plain": [
              "\n",
              " FALSE \n",
              "678330 "
            ]
          },
          "metadata": {}
        }
      ],
      "source": [
        "data <- data[complete.cases(data), ]\n",
        "table(is.na(data))"
      ]
    },
    {
      "cell_type": "markdown",
      "metadata": {
        "id": "wwTRN67nWs6Q"
      },
      "source": [
        "Additional data transformations - changing data types."
      ]
    },
    {
      "cell_type": "code",
      "execution_count": null,
      "metadata": {
        "id": "yaALXq40Wo1I"
      },
      "outputs": [],
      "source": [
        "data$age <- as.numeric(data$age)\n",
        "data$fnlwgt <- as.numeric(data$fnlwgt)\n",
        "data$educational.num <- as.numeric(data$educational.num)\n",
        "data$capital.gain <- as.numeric(data$capital.gain)\n",
        "data$capital.loss <- as.numeric(data$capital.loss)\n",
        "data$hours.per.week <- as.numeric(data$hours.per.week)"
      ]
    },
    {
      "cell_type": "code",
      "execution_count": null,
      "metadata": {
        "id": "OMYfBOu0W0_C"
      },
      "outputs": [],
      "source": [
        "data$workclass <- as.factor(data$workclass)\n",
        "data$marital.status <- as.factor(data$marital.status)\n",
        "data$native.country <- as.factor(data$native.country)"
      ]
    },
    {
      "cell_type": "code",
      "execution_count": null,
      "metadata": {
        "colab": {
          "base_uri": "https://localhost:8080/",
          "height": 69
        },
        "id": "gqvHIrcNW2fR",
        "outputId": "83b11526-9206-47d2-b39f-0ff864a855fc"
      },
      "outputs": [
        {
          "output_type": "display_data",
          "data": {
            "text/html": [
              "<style>\n",
              ".dl-inline {width: auto; margin:0; padding: 0}\n",
              ".dl-inline>dt, .dl-inline>dd {float: none; width: auto; display: inline-block}\n",
              ".dl-inline>dt::after {content: \":\\0020\"; padding-right: .5ex}\n",
              ".dl-inline>dt:not(:first-of-type) {padding-left: .5ex}\n",
              "</style><dl class=dl-inline><dt>age</dt><dd>'numeric'</dd><dt>workclass</dt><dd>'factor'</dd><dt>fnlwgt</dt><dd>'numeric'</dd><dt>education</dt><dd>'character'</dd><dt>educational.num</dt><dd>'numeric'</dd><dt>marital.status</dt><dd>'factor'</dd><dt>occupation</dt><dd>'character'</dd><dt>relationship</dt><dd>'character'</dd><dt>race</dt><dd>'character'</dd><dt>gender</dt><dd>'character'</dd><dt>capital.gain</dt><dd>'numeric'</dd><dt>capital.loss</dt><dd>'numeric'</dd><dt>hours.per.week</dt><dd>'numeric'</dd><dt>native.country</dt><dd>'factor'</dd><dt>income</dt><dd>'character'</dd></dl>\n"
            ],
            "text/markdown": "age\n:   'numeric'workclass\n:   'factor'fnlwgt\n:   'numeric'education\n:   'character'educational.num\n:   'numeric'marital.status\n:   'factor'occupation\n:   'character'relationship\n:   'character'race\n:   'character'gender\n:   'character'capital.gain\n:   'numeric'capital.loss\n:   'numeric'hours.per.week\n:   'numeric'native.country\n:   'factor'income\n:   'character'\n\n",
            "text/latex": "\\begin{description*}\n\\item[age] 'numeric'\n\\item[workclass] 'factor'\n\\item[fnlwgt] 'numeric'\n\\item[education] 'character'\n\\item[educational.num] 'numeric'\n\\item[marital.status] 'factor'\n\\item[occupation] 'character'\n\\item[relationship] 'character'\n\\item[race] 'character'\n\\item[gender] 'character'\n\\item[capital.gain] 'numeric'\n\\item[capital.loss] 'numeric'\n\\item[hours.per.week] 'numeric'\n\\item[native.country] 'factor'\n\\item[income] 'character'\n\\end{description*}\n",
            "text/plain": [
              "            age       workclass          fnlwgt       education educational.num \n",
              "      \"numeric\"        \"factor\"       \"numeric\"     \"character\"       \"numeric\" \n",
              " marital.status      occupation    relationship            race          gender \n",
              "       \"factor\"     \"character\"     \"character\"     \"character\"     \"character\" \n",
              "   capital.gain    capital.loss  hours.per.week  native.country          income \n",
              "      \"numeric\"       \"numeric\"       \"numeric\"        \"factor\"     \"character\" "
            ]
          },
          "metadata": {}
        }
      ],
      "source": [
        "sapply(data, class)"
      ]
    },
    {
      "cell_type": "markdown",
      "source": [
        "# Model Building and Evaluation"
      ],
      "metadata": {
        "id": "9PSVj2IgASUf"
      }
    },
    {
      "cell_type": "markdown",
      "metadata": {
        "id": "5PXHNTuBW7H9"
      },
      "source": [
        "Dividing the data into a training set and a test set."
      ]
    },
    {
      "cell_type": "code",
      "execution_count": null,
      "metadata": {
        "colab": {
          "base_uri": "https://localhost:8080/",
          "height": 69
        },
        "id": "hzsv3mJzW3p9",
        "outputId": "4872edec-aa79-429d-c35f-3cca600d9d8f"
      },
      "outputs": [
        {
          "output_type": "display_data",
          "data": {
            "text/plain": [
              "\n",
              "<=50K  >50K \n",
              "34014 11208 "
            ]
          },
          "metadata": {}
        }
      ],
      "source": [
        "table(data$income)\n",
        "y <- data$income"
      ]
    },
    {
      "cell_type": "markdown",
      "metadata": {
        "id": "XXRjUau2Xj36"
      },
      "source": [
        "Spliting the data into halves: 50% for the training set and 50% for the test set."
      ]
    },
    {
      "cell_type": "code",
      "execution_count": null,
      "metadata": {
        "id": "4KQZ0A36XU6_"
      },
      "outputs": [],
      "source": [
        "set.seed(321)\n",
        "test_index <- createDataPartition(y, times = 1, p = 0.5, list = FALSE)\n",
        "train_set <- data[test_index, ]\n",
        "test_set <- data[-test_index, ]"
      ]
    },
    {
      "cell_type": "code",
      "execution_count": null,
      "metadata": {
        "colab": {
          "base_uri": "https://localhost:8080/",
          "height": 52
        },
        "id": "y4tFj6FwXWSQ",
        "outputId": "e4f2b2f7-29eb-4070-c7a6-bd2e4b274686"
      },
      "outputs": [
        {
          "output_type": "display_data",
          "data": {
            "text/html": [
              "<style>\n",
              ".list-inline {list-style: none; margin:0; padding: 0}\n",
              ".list-inline>li {display: inline-block}\n",
              ".list-inline>li:not(:last-child)::after {content: \"\\00b7\"; padding: 0 .5ex}\n",
              "</style>\n",
              "<ol class=list-inline><li>22611</li><li>15</li></ol>\n"
            ],
            "text/markdown": "1. 22611\n2. 15\n\n\n",
            "text/latex": "\\begin{enumerate*}\n\\item 22611\n\\item 15\n\\end{enumerate*}\n",
            "text/plain": [
              "[1] 22611    15"
            ]
          },
          "metadata": {}
        },
        {
          "output_type": "display_data",
          "data": {
            "text/html": [
              "<style>\n",
              ".list-inline {list-style: none; margin:0; padding: 0}\n",
              ".list-inline>li {display: inline-block}\n",
              ".list-inline>li:not(:last-child)::after {content: \"\\00b7\"; padding: 0 .5ex}\n",
              "</style>\n",
              "<ol class=list-inline><li>22611</li><li>15</li></ol>\n"
            ],
            "text/markdown": "1. 22611\n2. 15\n\n\n",
            "text/latex": "\\begin{enumerate*}\n\\item 22611\n\\item 15\n\\end{enumerate*}\n",
            "text/plain": [
              "[1] 22611    15"
            ]
          },
          "metadata": {}
        }
      ],
      "source": [
        "dim(train_set)\n",
        "dim(test_set)"
      ]
    },
    {
      "cell_type": "markdown",
      "metadata": {
        "id": "wz3IxyU5Xti6"
      },
      "source": [
        "Building a model using the glm function."
      ]
    },
    {
      "cell_type": "code",
      "execution_count": null,
      "metadata": {
        "id": "wlMillOmXZw6"
      },
      "outputs": [],
      "source": [
        "model = glm(income ~ ., data = train_set, family = \"binomial\")\n",
        "summary(model)"
      ]
    },
    {
      "cell_type": "markdown",
      "metadata": {
        "id": "NXOC9WXEX2Py"
      },
      "source": [
        "Refining the model using the step function."
      ]
    },
    {
      "cell_type": "code",
      "execution_count": null,
      "metadata": {
        "colab": {
          "base_uri": "https://localhost:8080/",
          "height": 148
        },
        "id": "bh_fQOhdX1Ca",
        "outputId": "1e6fc613-dc92-42ef-fef2-1452b6fc92ea"
      },
      "outputs": [
        {
          "output_type": "error",
          "ename": "ERROR",
          "evalue": "ignored",
          "traceback": [
            "Error in eval(expr, envir, enclos): object 'model' not found\nTraceback:\n",
            "1. step(model)",
            "2. terms(object)"
          ]
        }
      ],
      "source": [
        "step.model <- step(model)\n",
        "summary(step.model)"
      ]
    },
    {
      "cell_type": "code",
      "execution_count": null,
      "metadata": {
        "id": "sVWqC50lDHan",
        "outputId": "374842c3-655f-4e0b-87df-1287dbf4b722"
      },
      "outputs": [
        {
          "data": {
            "text/plain": [
              "glm(formula = income ~ age + workclass + fnlwgt + education + \n",
              "    marital.status + occupation + relationship + race + gender + \n",
              "    capital.gain + capital.loss + hours.per.week + native.country, \n",
              "    family = \"binomial\", data = train_set)"
            ]
          },
          "metadata": {},
          "output_type": "display_data"
        }
      ],
      "source": [
        "step.model$call"
      ]
    },
    {
      "cell_type": "markdown",
      "metadata": {
        "id": "73gZjxhuYRfy"
      },
      "source": [
        "Testing the model on the test data and generating a confusion matrix."
      ]
    },
    {
      "cell_type": "code",
      "execution_count": null,
      "metadata": {
        "id": "JyDRbScpYAMK"
      },
      "outputs": [],
      "source": [
        "pred <- predict(step.model, newdata = test_set)\n",
        "y_hat <- ifelse(pred> 0.5, \">50K\", \"<=50K\")\n",
        "y_hat <- factor(y_hat, levels = levels(test_set$income))"
      ]
    },
    {
      "cell_type": "code",
      "execution_count": null,
      "metadata": {
        "colab": {
          "base_uri": "https://localhost:8080/",
          "height": 86
        },
        "id": "pc2_2KPgYaeb",
        "outputId": "2c3a3c58-a57d-4a12-89d1-dacb566c265b"
      },
      "outputs": [
        {
          "data": {
            "text/plain": [
              "         actual\n",
              "predicted <=50K  >50K\n",
              "    <=50K 16311  2851\n",
              "    >50K    696  2753"
            ]
          },
          "metadata": {},
          "output_type": "display_data"
        }
      ],
      "source": [
        "pred.table = table(predicted = y_hat, actual = test_set$income)\n",
        "pred.table"
      ]
    },
    {
      "cell_type": "markdown",
      "metadata": {
        "id": "vxc2SvDGYjf-"
      },
      "source": [
        "Evaluating the model using the confusionMatrix function to obtain the same values."
      ]
    },
    {
      "cell_type": "code",
      "execution_count": null,
      "metadata": {
        "colab": {
          "base_uri": "https://localhost:8080/",
          "height": 486
        },
        "id": "T1krQThLYcD_",
        "outputId": "41de1c7c-15bd-44b4-e13c-fa4bcf6aca07"
      },
      "outputs": [
        {
          "data": {
            "text/plain": [
              "Confusion Matrix and Statistics\n",
              "\n",
              "          Reference\n",
              "Prediction <=50K  >50K\n",
              "     <=50K 16311  2851\n",
              "     >50K    696  2753\n",
              "                                          \n",
              "               Accuracy : 0.8431          \n",
              "                 95% CI : (0.8383, 0.8478)\n",
              "    No Information Rate : 0.7522          \n",
              "    P-Value [Acc > NIR] : < 2.2e-16       \n",
              "                                          \n",
              "                  Kappa : 0.517           \n",
              "                                          \n",
              " Mcnemar's Test P-Value : < 2.2e-16       \n",
              "                                          \n",
              "            Sensitivity : 0.9591          \n",
              "            Specificity : 0.4913          \n",
              "         Pos Pred Value : 0.8512          \n",
              "         Neg Pred Value : 0.7982          \n",
              "             Prevalence : 0.7522          \n",
              "         Detection Rate : 0.7214          \n",
              "   Detection Prevalence : 0.8475          \n",
              "      Balanced Accuracy : 0.7252          \n",
              "                                          \n",
              "       'Positive' Class : <=50K           \n",
              "                                          "
            ]
          },
          "metadata": {},
          "output_type": "display_data"
        }
      ],
      "source": [
        "confusionMatrix(data = y_hat, reference = test_set$income)"
      ]
    },
    {
      "cell_type": "markdown",
      "metadata": {
        "id": "JwyChL4-Y1Ky"
      },
      "source": [
        "Evaluating the classification model using the ROC curve."
      ]
    },
    {
      "cell_type": "code",
      "execution_count": null,
      "metadata": {
        "colab": {
          "base_uri": "https://localhost:8080/",
          "height": 506
        },
        "id": "ZLG8rXjIY07z",
        "outputId": "57c0fe02-28d1-43cd-e64a-3d693ff69ed3"
      },
      "outputs": [
        {
          "name": "stderr",
          "output_type": "stream",
          "text": [
            "Setting levels: control = <=50K, case = >50K\n",
            "Setting direction: controls < cases\n"
          ]
        },
        {
          "data": {
            "image/png": "[encoded data removed]",
            "text/plain": [
              "Plot with title \"Krzywa ROC\""
            ]
          },
          "metadata": {},
          "output_type": "display_data"
        }
      ],
      "source": [
        "roc <- roc(test_set$income, pred)\n",
        "plot(roc, main = \"Krzywa ROC\", xlab = \"1 - specyficzność\", ylab = \"Czułość\")"
      ]
    },
    {
      "cell_type": "markdown",
      "metadata": {
        "id": "JcaiBK1YZlHk"
      },
      "source": [
        "**AUC - Area Under the Curve**\n",
        "\n",
        "AUC is a measure of the overall performance of a classification model based on the ROC curve. The AUC value ranges from 0 to 1, where:\n",
        "\n",
        "* AUC = 1: Perfect classifier\n",
        "* AUC = 0.5: Random classifier\n",
        "* AUC < 0.5: Inverted or incorrect classifier (worse than random)\n",
        "\n",
        "\n",
        "In general, the larger the AUC value, the better the classifier's performance in distinguishing between the positive and negative classes."
      ]
    },
    {
      "cell_type": "code",
      "execution_count": null,
      "metadata": {
        "colab": {
          "base_uri": "https://localhost:8080/",
          "height": 34
        },
        "id": "2mxsi1R4Yk3Y",
        "outputId": "61f94355-3e57-4b8f-9cdf-1cb69481b3bb"
      },
      "outputs": [
        {
          "data": {
            "text/html": [
              "0.904843266451942"
            ],
            "text/latex": [
              "0.904843266451942"
            ],
            "text/markdown": [
              "0.904843266451942"
            ],
            "text/plain": [
              "Area under the curve: 0.9048"
            ]
          },
          "metadata": {},
          "output_type": "display_data"
        }
      ],
      "source": [
        "auc <- auc(roc)\n",
        "auc"
      ]
    },
    {
      "cell_type": "markdown",
      "metadata": {
        "id": "UcFDAsWIZ8C3"
      },
      "source": [
        "AUC > 0.9 indicates a good fit of the model."
      ]
    },
    {
      "cell_type": "markdown",
      "metadata": {
        "id": "CuNula_ZaEpH"
      },
      "source": [
        "**Gini Coefficient (GC)**\n",
        "\n",
        "The Gini coefficient is another metric commonly used to evaluate the performance of a classification model. It measures the inequality or impurity of the predicted classes. The Gini coefficient ranges from 0 to 1, where:\n",
        "\n",
        "* GC = 1: Perfect classifier (all instances are correctly classified into their respective classes)\n",
        "* GC = 0: Random classifier (the distribution of instances across classes is completely random)\n",
        "\n",
        "In general, the larger the Gini coefficient, the better the classifier's performance in terms of class separation and minimizing impurity."
      ]
    },
    {
      "cell_type": "code",
      "execution_count": null,
      "metadata": {
        "colab": {
          "base_uri": "https://localhost:8080/",
          "height": 34
        },
        "id": "r8SDLAm7Z46z",
        "outputId": "f903ab27-ae52-4e33-8734-28ecaaa0dcd9"
      },
      "outputs": [
        {
          "data": {
            "text/html": [
              "0.809686532903884"
            ],
            "text/latex": [
              "0.809686532903884"
            ],
            "text/markdown": [
              "0.809686532903884"
            ],
            "text/plain": [
              "[1] 0.8096865"
            ]
          },
          "metadata": {},
          "output_type": "display_data"
        }
      ],
      "source": [
        "gc <- 2*auc-1\n",
        "gc"
      ]
    },
    {
      "cell_type": "markdown",
      "source": [
        "GC > 0.8 also indicates a good fit of the model."
      ],
      "metadata": {
        "id": "8QqsR4gc5Ueo"
      }
    },
    {
      "cell_type": "markdown",
      "metadata": {
        "id": "9mheKQWAbKXw"
      },
      "source": [
        "# Calculating the F1-score for the developed model."
      ]
    },
    {
      "cell_type": "markdown",
      "source": [
        "TP, FP, FN, TN are abbreviations commonly used in confusion matrices to represent different classifications:\n",
        "\n",
        "* TP (True Positive): It refers to the number of correctly predicted positive instances or the number of instances correctly classified as the positive class.\n",
        "* FP (False Positive): It represents the number of instances that were incorrectly predicted as positive or the number of instances classified as the positive class when they actually belong to the negative class.\n",
        "* FN (False Negative): It indicates the number of instances that were incorrectly predicted as negative or the number of instances classified as the negative class when they actually belong to the positive class.\n",
        "* TN (True Negative): It refers to the number of correctly predicted negative instances or the number of instances correctly classified as the negative class."
      ],
      "metadata": {
        "id": "ZQIn-2CK6hh6"
      }
    },
    {
      "cell_type": "code",
      "execution_count": null,
      "metadata": {
        "id": "CP7ibdpgadDf"
      },
      "outputs": [],
      "source": [
        "TP <- pred.table[1,1]\n",
        "FP <- pred.table[1,2]\n",
        "FN <- pred.table[2,1]\n",
        "TN <- pred.table[2,2]"
      ]
    },
    {
      "cell_type": "markdown",
      "metadata": {
        "id": "MTRl-dnMbS8o"
      },
      "source": [
        "Sensitivity (also known as Recall) is a measure that determines the model's ability to correctly detect positive instances. It is the proportion of true positive cases (TP) to the sum of true positive cases (TP) and false negative cases (FN).\n",
        "\n",
        "\n",
        "\n",
        "Accuracy is a measure of the overall correctness of the model, representing the ratio of correctly classified cases (both positive and negative) to the total number of cases.\n",
        "\n"
      ]
    },
    {
      "cell_type": "code",
      "execution_count": null,
      "metadata": {
        "colab": {
          "base_uri": "https://localhost:8080/",
          "height": 34
        },
        "id": "EoWOyhlTbRhL",
        "outputId": "fdb06f19-05c1-4fcc-82d7-23511468758b"
      },
      "outputs": [
        {
          "data": {
            "text/html": [
              "0.959075674722173"
            ],
            "text/latex": [
              "0.959075674722173"
            ],
            "text/markdown": [
              "0.959075674722173"
            ],
            "text/plain": [
              "[1] 0.9590757"
            ]
          },
          "metadata": {},
          "output_type": "display_data"
        }
      ],
      "source": [
        "TPR <- TP/(TP+FN)\n",
        "TPR"
      ]
    },
    {
      "cell_type": "markdown",
      "metadata": {
        "id": "vI0QNJRbbalv"
      },
      "source": [
        "Specificity is a measure that determines the model's ability to correctly detect negative instances. It is the proportion of true negative cases (TN) to the sum of true negative cases (TN) and false positive cases (FP)."
      ]
    },
    {
      "cell_type": "code",
      "execution_count": null,
      "metadata": {
        "colab": {
          "base_uri": "https://localhost:8080/",
          "height": 34
        },
        "id": "8FU4OvvZbZxJ",
        "outputId": "678e1823-c54c-400b-f3c2-bbea8ce2ea5b"
      },
      "outputs": [
        {
          "data": {
            "text/html": [
              "0.491256245538901"
            ],
            "text/latex": [
              "0.491256245538901"
            ],
            "text/markdown": [
              "0.491256245538901"
            ],
            "text/plain": [
              "[1] 0.4912562"
            ]
          },
          "metadata": {},
          "output_type": "display_data"
        }
      ],
      "source": [
        "TNR <- TN/(TN+FP)\n",
        "TNR"
      ]
    },
    {
      "cell_type": "markdown",
      "metadata": {
        "id": "yWgx4uiwbggY"
      },
      "source": [
        "Precision (also known as Positive Predictive Value) is a measure that determines the accuracy of positive predictions made by the model. It is the proportion of true positive cases (TP) to the sum of true positive cases (TP) and false positive cases (FP)."
      ]
    },
    {
      "cell_type": "code",
      "execution_count": null,
      "metadata": {
        "colab": {
          "base_uri": "https://localhost:8080/",
          "height": 34
        },
        "id": "79uRh0uObeu9",
        "outputId": "f3bdeac1-22f7-4732-a31e-9e89be0a1a25"
      },
      "outputs": [
        {
          "data": {
            "text/html": [
              "0.851215948230874"
            ],
            "text/latex": [
              "0.851215948230874"
            ],
            "text/markdown": [
              "0.851215948230874"
            ],
            "text/plain": [
              "[1] 0.8512159"
            ]
          },
          "metadata": {},
          "output_type": "display_data"
        }
      ],
      "source": [
        "PPV <- TP/(TP+FP)\n",
        "PPV"
      ]
    },
    {
      "cell_type": "markdown",
      "metadata": {
        "id": "9Xg3mxYEbqXg"
      },
      "source": [
        "**F1-score**\n",
        "\n",
        "F1-score is a metric that combines precision and recall (sensitivity) into a single value, providing a balanced measure of accuracy. It is the harmonic mean of precision and recall.\n",
        "\n",
        "The F1-score takes into account both the precision (ability to avoid false positives) and recall (ability to detect true positives) of the model. It is particularly useful in situations where there is an imbalance between positive and negative instances in the dataset. A high F1-score indicates a good balance between precision and recall, indicating a reliable and accurate model performance."
      ]
    },
    {
      "cell_type": "code",
      "execution_count": null,
      "metadata": {
        "colab": {
          "base_uri": "https://localhost:8080/",
          "height": 34
        },
        "id": "2lq2nyvLcG7j",
        "outputId": "fdad048b-d50e-4a21-ef9d-0128293c1e9c"
      },
      "outputs": [
        {
          "data": {
            "text/html": [
              "0.901932594210512"
            ],
            "text/latex": [
              "0.901932594210512"
            ],
            "text/markdown": [
              "0.901932594210512"
            ],
            "text/plain": [
              "[1] 0.9019326"
            ]
          },
          "metadata": {},
          "output_type": "display_data"
        }
      ],
      "source": [
        "f1_score = 2*(TPR*PPV)/(TPR+PPV)\n",
        "f1_score"
      ]
    },
    {
      "cell_type": "markdown",
      "metadata": {
        "id": "jWVdL2T-dxMD"
      },
      "source": [
        "The highest possible value for the F1-score is 1.0, which indicates perfect precision and recall. This means that the model achieves both high precision in its positive predictions and high recall in identifying true positive cases. On the other hand, the lowest possible value for the F1-score is 0, which occurs when either precision or recall is zero. This indicates that the model fails to correctly predict positive cases or fails to identify any true positive cases."
      ]
    },
    {
      "cell_type": "markdown",
      "metadata": {
        "id": "Lcj2fGIKfbPk"
      },
      "source": [
        "# Changing the Data Proportions\n",
        "\n",
        "Evaluation of the model when we increase the proportion between the amount of data in the training and test sets:\n",
        "\n",
        "* 80% training set\n",
        "* 20% test set"
      ]
    },
    {
      "cell_type": "code",
      "execution_count": null,
      "metadata": {
        "id": "XrGQxfYjgMDk"
      },
      "outputs": [],
      "source": [
        "set.seed(321)\n",
        "test_index <- createDataPartition(y, times = 1, p = 0.8, list = FALSE)\n",
        "train_set <- data[test_index, ]\n",
        "test_set <- data[-test_index, ]"
      ]
    },
    {
      "cell_type": "markdown",
      "metadata": {
        "id": "NIFDyx4AgYiw"
      },
      "source": [
        "Model"
      ]
    },
    {
      "cell_type": "code",
      "execution_count": null,
      "metadata": {
        "colab": {
          "base_uri": "https://localhost:8080/",
          "height": 1000
        },
        "id": "Jf6yQkhbgMAP",
        "outputId": "54aa7495-98f9-4cbc-edd0-9ab21c372fec"
      },
      "outputs": [
        {
          "name": "stderr",
          "output_type": "stream",
          "text": [
            "Warning message:\n",
            "\"glm.fit: fitted probabilities numerically 0 or 1 occurred\""
          ]
        },
        {
          "data": {
            "text/plain": [
              "\n",
              "Call:\n",
              "glm(formula = income ~ ., family = \"binomial\", data = train_set)\n",
              "\n",
              "Deviance Residuals: \n",
              "    Min       1Q   Median       3Q      Max  \n",
              "-5.0642  -0.5226  -0.1999  -0.0232   3.5802  \n",
              "\n",
              "Coefficients: (1 not defined because of singularities)\n",
              "                              Estimate Std. Error z value Pr(>|z|)    \n",
              "(Intercept)                 -6.113e+00  3.322e-01 -18.399  < 2e-16 ***\n",
              "age                          2.536e-02  1.534e-03  16.525  < 2e-16 ***\n",
              "workclassSelf-emp           -3.161e-01  4.928e-02  -6.414 1.41e-10 ***\n",
              "workclassSL-gov              2.171e-02  5.518e-02   0.393 0.693980    \n",
              "workclassState-gov          -3.095e-01  8.278e-02  -3.739 0.000185 ***\n",
              "workclassWithout-pay        -5.439e-01  8.042e-01  -0.676 0.498857    \n",
              "fnlwgt                       6.707e-07  1.587e-07   4.227 2.37e-05 ***\n",
              "education11th                2.097e-01  1.957e-01   1.072 0.283937    \n",
              "education12th                5.247e-01  2.521e-01   2.081 0.037440 *  \n",
              "education1st-4th            -8.900e-01  4.770e-01  -1.866 0.062031 .  \n",
              "education5th-6th            -4.882e-01  3.101e-01  -1.574 0.115379    \n",
              "education7th-8th            -3.361e-01  2.173e-01  -1.547 0.121809    \n",
              "education9th                -1.859e-01  2.434e-01  -0.764 0.444907    \n",
              "educationAssoc-acdm          1.449e+00  1.674e-01   8.657  < 2e-16 ***\n",
              "educationAssoc-voc           1.377e+00  1.614e-01   8.532  < 2e-16 ***\n",
              "educationBachelors           2.050e+00  1.507e-01  13.600  < 2e-16 ***\n",
              "educationDoctorate           2.914e+00  2.056e-01  14.173  < 2e-16 ***\n",
              "educationHS-grad             9.106e-01  1.469e-01   6.199 5.67e-10 ***\n",
              "educationMasters             2.367e+00  1.598e-01  14.816  < 2e-16 ***\n",
              "educationPreschool          -4.543e+00  2.920e+00  -1.556 0.119782    \n",
              "educationProf-school         2.835e+00  1.910e-01  14.844  < 2e-16 ***\n",
              "educationSome-college        1.243e+00  1.490e-01   8.342  < 2e-16 ***\n",
              "educational.num                     NA         NA      NA       NA    \n",
              "marital.statusNever-married -8.138e-01  1.143e-01  -7.123 1.06e-12 ***\n",
              "marital.statusNot-Married   -3.415e-01  1.121e-01  -3.045 0.002324 ** \n",
              "occupationArmed-Forces       6.698e-01  9.228e-01   0.726 0.467966    \n",
              "occupationCraft-repair      -6.599e-02  7.197e-02  -0.917 0.359177    \n",
              "occupationExec-managerial    6.972e-01  6.932e-02  10.057  < 2e-16 ***\n",
              "occupationFarming-fishing   -1.171e+00  1.272e-01  -9.209  < 2e-16 ***\n",
              "occupationHandlers-cleaners -7.331e-01  1.263e-01  -5.806 6.41e-09 ***\n",
              "occupationMachine-op-inspct -4.182e-01  9.309e-02  -4.492 7.04e-06 ***\n",
              "occupationOther-service     -9.934e-01  1.073e-01  -9.255  < 2e-16 ***\n",
              "occupationPriv-house-serv   -1.772e+00  7.402e-01  -2.393 0.016698 *  \n",
              "occupationProf-specialty     4.038e-01  7.306e-02   5.527 3.26e-08 ***\n",
              "occupationProtective-serv    2.620e-01  1.124e-01   2.331 0.019761 *  \n",
              "occupationSales              1.773e-01  7.411e-02   2.393 0.016718 *  \n",
              "occupationTech-support       5.048e-01  1.001e-01   5.041 4.64e-07 ***\n",
              "occupationTransport-moving  -2.121e-01  8.984e-02  -2.360 0.018255 *  \n",
              "relationshipNot-in-family   -1.400e+00  1.086e-01 -12.890  < 2e-16 ***\n",
              "relationshipOther-relative  -1.758e+00  2.043e-01  -8.606  < 2e-16 ***\n",
              "relationshipOwn-child       -2.369e+00  1.608e-01 -14.734  < 2e-16 ***\n",
              "relationshipUnmarried       -1.676e+00  1.276e-01 -13.140  < 2e-16 ***\n",
              "relationshipWife             1.093e+00  9.447e-02  11.566  < 2e-16 ***\n",
              "raceAsian-Pac-Islander       1.063e+00  2.506e-01   4.242 2.22e-05 ***\n",
              "raceBlack                    3.443e-01  2.140e-01   1.609 0.107599    \n",
              "raceOther                    4.059e-01  3.103e-01   1.308 0.190911    \n",
              "raceWhite                    5.560e-01  2.035e-01   2.732 0.006288 ** \n",
              "genderMale                   7.168e-01  7.180e-02   9.983  < 2e-16 ***\n",
              "capital.gain                 3.139e-04  9.647e-06  32.539  < 2e-16 ***\n",
              "capital.loss                 6.265e-04  3.436e-05  18.233  < 2e-16 ***\n",
              "hours.per.week               3.022e-02  1.523e-03  19.843  < 2e-16 ***\n",
              "native.countryEurope         7.909e-01  2.057e-01   3.845 0.000121 ***\n",
              "native.countryNorth-America  5.133e-01  1.700e-01   3.019 0.002540 ** \n",
              "native.countrySouth-America -1.042e+00  3.048e-01  -3.420 0.000626 ***\n",
              "---\n",
              "Signif. codes:  0 '***' 0.001 '**' 0.01 '*' 0.05 '.' 0.1 ' ' 1\n",
              "\n",
              "(Dispersion parameter for binomial family taken to be 1)\n",
              "\n",
              "    Null deviance: 40518  on 36178  degrees of freedom\n",
              "Residual deviance: 23702  on 36126  degrees of freedom\n",
              "AIC: 23808\n",
              "\n",
              "Number of Fisher Scoring iterations: 8\n"
            ]
          },
          "metadata": {},
          "output_type": "display_data"
        }
      ],
      "source": [
        "model = glm(income ~ ., data = train_set, family = \"binomial\")\n",
        "summary(model)"
      ]
    },
    {
      "cell_type": "markdown",
      "metadata": {
        "id": "91YG2qvLgkVR"
      },
      "source": [
        "Improving model with step function."
      ]
    },
    {
      "cell_type": "code",
      "execution_count": null,
      "metadata": {
        "colab": {
          "base_uri": "https://localhost:8080/",
          "height": 1000
        },
        "id": "X_L_yrOUgtfY",
        "outputId": "62335f2b-4ab3-44fa-dcc1-6e4d384f942e"
      },
      "outputs": [
        {
          "name": "stdout",
          "output_type": "stream",
          "text": [
            "Start:  AIC=23808.46\n",
            "income ~ age + workclass + fnlwgt + education + educational.num + \n",
            "    marital.status + occupation + relationship + race + gender + \n",
            "    capital.gain + capital.loss + hours.per.week + native.country\n",
            "\n"
          ]
        },
        {
          "name": "stderr",
          "output_type": "stream",
          "text": [
            "Warning message:\n",
            "\"glm.fit: fitted probabilities numerically 0 or 1 occurred\"Warning message:\n",
            "\"glm.fit: fitted probabilities numerically 0 or 1 occurred\"Warning message:\n",
            "\"glm.fit: fitted probabilities numerically 0 or 1 occurred\"Warning message:\n",
            "\"glm.fit: fitted probabilities numerically 0 or 1 occurred\"Warning message:\n",
            "\"glm.fit: fitted probabilities numerically 0 or 1 occurred\"Warning message:\n",
            "\"glm.fit: fitted probabilities numerically 0 or 1 occurred\"Warning message:\n",
            "\"glm.fit: fitted probabilities numerically 0 or 1 occurred\"Warning message:\n",
            "\"glm.fit: fitted probabilities numerically 0 or 1 occurred\"Warning message:\n",
            "\"glm.fit: fitted probabilities numerically 0 or 1 occurred\"Warning message:\n",
            "\"glm.fit: fitted probabilities numerically 0 or 1 occurred\"Warning message:\n",
            "\"glm.fit: fitted probabilities numerically 0 or 1 occurred\"Warning message:\n",
            "\"glm.fit: fitted probabilities numerically 0 or 1 occurred\"Warning message:\n",
            "\"glm.fit: fitted probabilities numerically 0 or 1 occurred\"Warning message:\n",
            "\"glm.fit: fitted probabilities numerically 0 or 1 occurred\""
          ]
        },
        {
          "name": "stdout",
          "output_type": "stream",
          "text": [
            "\n",
            "Step:  AIC=23808.46\n",
            "income ~ age + workclass + fnlwgt + education + marital.status + \n",
            "    occupation + relationship + race + gender + capital.gain + \n",
            "    capital.loss + hours.per.week + native.country\n",
            "\n"
          ]
        },
        {
          "name": "stderr",
          "output_type": "stream",
          "text": [
            "Warning message:\n",
            "\"glm.fit: fitted probabilities numerically 0 or 1 occurred\"Warning message:\n",
            "\"glm.fit: fitted probabilities numerically 0 or 1 occurred\"Warning message:\n",
            "\"glm.fit: fitted probabilities numerically 0 or 1 occurred\"Warning message:\n",
            "\"glm.fit: fitted probabilities numerically 0 or 1 occurred\"Warning message:\n",
            "\"glm.fit: fitted probabilities numerically 0 or 1 occurred\"Warning message:\n",
            "\"glm.fit: fitted probabilities numerically 0 or 1 occurred\"Warning message:\n",
            "\"glm.fit: fitted probabilities numerically 0 or 1 occurred\"Warning message:\n",
            "\"glm.fit: fitted probabilities numerically 0 or 1 occurred\"Warning message:\n",
            "\"glm.fit: fitted probabilities numerically 0 or 1 occurred\"Warning message:\n",
            "\"glm.fit: fitted probabilities numerically 0 or 1 occurred\"Warning message:\n",
            "\"glm.fit: fitted probabilities numerically 0 or 1 occurred\"Warning message:\n",
            "\"glm.fit: fitted probabilities numerically 0 or 1 occurred\""
          ]
        },
        {
          "name": "stdout",
          "output_type": "stream",
          "text": [
            "                 Df Deviance   AIC\n",
            "<none>                 23703 23809\n",
            "- fnlwgt          1    23720 23824\n",
            "- race            4    23732 23830\n",
            "- native.country  3    23745 23845\n",
            "- workclass       4    23758 23856\n",
            "- marital.status  2    23765 23867\n",
            "- gender          1    23804 23908\n",
            "- age             1    23978 24082\n",
            "- capital.loss    1    24042 24146\n",
            "- hours.per.week  1    24106 24210\n",
            "- occupation     13    24413 24493\n",
            "- relationship    5    24431 24527\n",
            "- education      15    24916 24992\n",
            "- capital.gain    1    25766 25870\n"
          ]
        },
        {
          "data": {
            "text/plain": [
              "\n",
              "Call:\n",
              "glm(formula = income ~ age + workclass + fnlwgt + education + \n",
              "    marital.status + occupation + relationship + race + gender + \n",
              "    capital.gain + capital.loss + hours.per.week + native.country, \n",
              "    family = \"binomial\", data = train_set)\n",
              "\n",
              "Deviance Residuals: \n",
              "    Min       1Q   Median       3Q      Max  \n",
              "-5.0642  -0.5226  -0.1999  -0.0232   3.5802  \n",
              "\n",
              "Coefficients:\n",
              "                              Estimate Std. Error z value Pr(>|z|)    \n",
              "(Intercept)                 -6.113e+00  3.322e-01 -18.399  < 2e-16 ***\n",
              "age                          2.536e-02  1.534e-03  16.525  < 2e-16 ***\n",
              "workclassSelf-emp           -3.161e-01  4.928e-02  -6.414 1.41e-10 ***\n",
              "workclassSL-gov              2.171e-02  5.518e-02   0.393 0.693980    \n",
              "workclassState-gov          -3.095e-01  8.278e-02  -3.739 0.000185 ***\n",
              "workclassWithout-pay        -5.439e-01  8.042e-01  -0.676 0.498857    \n",
              "fnlwgt                       6.707e-07  1.587e-07   4.227 2.37e-05 ***\n",
              "education11th                2.097e-01  1.957e-01   1.072 0.283937    \n",
              "education12th                5.247e-01  2.521e-01   2.081 0.037440 *  \n",
              "education1st-4th            -8.900e-01  4.770e-01  -1.866 0.062031 .  \n",
              "education5th-6th            -4.882e-01  3.101e-01  -1.574 0.115379    \n",
              "education7th-8th            -3.361e-01  2.173e-01  -1.547 0.121809    \n",
              "education9th                -1.859e-01  2.434e-01  -0.764 0.444907    \n",
              "educationAssoc-acdm          1.449e+00  1.674e-01   8.657  < 2e-16 ***\n",
              "educationAssoc-voc           1.377e+00  1.614e-01   8.532  < 2e-16 ***\n",
              "educationBachelors           2.050e+00  1.507e-01  13.600  < 2e-16 ***\n",
              "educationDoctorate           2.914e+00  2.056e-01  14.173  < 2e-16 ***\n",
              "educationHS-grad             9.106e-01  1.469e-01   6.199 5.67e-10 ***\n",
              "educationMasters             2.367e+00  1.598e-01  14.816  < 2e-16 ***\n",
              "educationPreschool          -4.543e+00  2.920e+00  -1.556 0.119782    \n",
              "educationProf-school         2.835e+00  1.910e-01  14.844  < 2e-16 ***\n",
              "educationSome-college        1.243e+00  1.490e-01   8.342  < 2e-16 ***\n",
              "marital.statusNever-married -8.138e-01  1.143e-01  -7.123 1.06e-12 ***\n",
              "marital.statusNot-Married   -3.415e-01  1.121e-01  -3.045 0.002324 ** \n",
              "occupationArmed-Forces       6.698e-01  9.228e-01   0.726 0.467966    \n",
              "occupationCraft-repair      -6.599e-02  7.197e-02  -0.917 0.359177    \n",
              "occupationExec-managerial    6.972e-01  6.932e-02  10.057  < 2e-16 ***\n",
              "occupationFarming-fishing   -1.171e+00  1.272e-01  -9.209  < 2e-16 ***\n",
              "occupationHandlers-cleaners -7.331e-01  1.263e-01  -5.806 6.41e-09 ***\n",
              "occupationMachine-op-inspct -4.182e-01  9.309e-02  -4.492 7.04e-06 ***\n",
              "occupationOther-service     -9.934e-01  1.073e-01  -9.255  < 2e-16 ***\n",
              "occupationPriv-house-serv   -1.772e+00  7.402e-01  -2.393 0.016698 *  \n",
              "occupationProf-specialty     4.038e-01  7.306e-02   5.527 3.26e-08 ***\n",
              "occupationProtective-serv    2.620e-01  1.124e-01   2.331 0.019761 *  \n",
              "occupationSales              1.773e-01  7.411e-02   2.393 0.016718 *  \n",
              "occupationTech-support       5.048e-01  1.001e-01   5.041 4.64e-07 ***\n",
              "occupationTransport-moving  -2.121e-01  8.984e-02  -2.360 0.018255 *  \n",
              "relationshipNot-in-family   -1.400e+00  1.086e-01 -12.890  < 2e-16 ***\n",
              "relationshipOther-relative  -1.758e+00  2.043e-01  -8.606  < 2e-16 ***\n",
              "relationshipOwn-child       -2.369e+00  1.608e-01 -14.734  < 2e-16 ***\n",
              "relationshipUnmarried       -1.676e+00  1.276e-01 -13.140  < 2e-16 ***\n",
              "relationshipWife             1.093e+00  9.447e-02  11.566  < 2e-16 ***\n",
              "raceAsian-Pac-Islander       1.063e+00  2.506e-01   4.242 2.22e-05 ***\n",
              "raceBlack                    3.443e-01  2.140e-01   1.609 0.107599    \n",
              "raceOther                    4.059e-01  3.103e-01   1.308 0.190911    \n",
              "raceWhite                    5.560e-01  2.035e-01   2.732 0.006288 ** \n",
              "genderMale                   7.168e-01  7.180e-02   9.983  < 2e-16 ***\n",
              "capital.gain                 3.139e-04  9.647e-06  32.539  < 2e-16 ***\n",
              "capital.loss                 6.265e-04  3.436e-05  18.233  < 2e-16 ***\n",
              "hours.per.week               3.022e-02  1.523e-03  19.843  < 2e-16 ***\n",
              "native.countryEurope         7.909e-01  2.057e-01   3.845 0.000121 ***\n",
              "native.countryNorth-America  5.133e-01  1.700e-01   3.019 0.002540 ** \n",
              "native.countrySouth-America -1.042e+00  3.048e-01  -3.420 0.000626 ***\n",
              "---\n",
              "Signif. codes:  0 '***' 0.001 '**' 0.01 '*' 0.05 '.' 0.1 ' ' 1\n",
              "\n",
              "(Dispersion parameter for binomial family taken to be 1)\n",
              "\n",
              "    Null deviance: 40518  on 36178  degrees of freedom\n",
              "Residual deviance: 23702  on 36126  degrees of freedom\n",
              "AIC: 23808\n",
              "\n",
              "Number of Fisher Scoring iterations: 8\n"
            ]
          },
          "metadata": {},
          "output_type": "display_data"
        }
      ],
      "source": [
        "step.model <- step(model)\n",
        "summary(step.model)"
      ]
    },
    {
      "cell_type": "markdown",
      "metadata": {
        "id": "lRC0fd3fe5vd"
      },
      "source": [
        "Prediction table"
      ]
    },
    {
      "cell_type": "code",
      "execution_count": null,
      "metadata": {
        "colab": {
          "base_uri": "https://localhost:8080/",
          "height": 86
        },
        "id": "NnyvT8-KgyGn",
        "outputId": "ac3238ec-0257-4f8a-cac6-b943319fbd72"
      },
      "outputs": [
        {
          "data": {
            "text/plain": [
              "         actual\n",
              "predicted <=50K >50K\n",
              "    <=50K  6546 1189\n",
              "    >50K    256 1052"
            ]
          },
          "metadata": {},
          "output_type": "display_data"
        }
      ],
      "source": [
        "pred <- predict(step.model, newdata = test_set)\n",
        "y_hat <- ifelse(pred> 0.5, \">50K\", \"<=50K\")\n",
        "y_hat <- factor(y_hat, levels = levels(test_set$income))\n",
        "pred.table = table(predicted = y_hat, actual = test_set$income)\n",
        "pred.table"
      ]
    },
    {
      "cell_type": "markdown",
      "metadata": {
        "id": "S1Lma1inh3vx"
      },
      "source": [
        "F1-score"
      ]
    },
    {
      "cell_type": "code",
      "execution_count": null,
      "metadata": {
        "colab": {
          "base_uri": "https://localhost:8080/",
          "height": 34
        },
        "id": "VCURm44Dg6R2",
        "outputId": "59d68c19-515a-4111-8b28-a19369043373"
      },
      "outputs": [
        {
          "data": {
            "text/html": [
              "0.900598472862351"
            ],
            "text/latex": [
              "0.900598472862351"
            ],
            "text/markdown": [
              "0.900598472862351"
            ],
            "text/plain": [
              "[1] 0.9005985"
            ]
          },
          "metadata": {},
          "output_type": "display_data"
        }
      ],
      "source": [
        "TP <- pred.table[1,1]\n",
        "FP <- pred.table[1,2]\n",
        "FN <- pred.table[2,1]\n",
        "TN <- pred.table[2,2]\n",
        "\n",
        "TPR <- TP/(TP+FN) #dokładność\n",
        "TNR <- TN/(TN+FP) #specyficzność\n",
        "PPV <- TP/(TP+FP) #precyzja\n",
        "\n",
        "f1_score = 2*(TPR*PPV)/(TPR+PPV)\n",
        "f1_score"
      ]
    },
    {
      "cell_type": "markdown",
      "metadata": {
        "id": "CCUK3Iddh8wI"
      },
      "source": [
        "The obtained model has a lower F1-score value compared to the previous model."
      ]
    },
    {
      "cell_type": "markdown",
      "source": [
        "# Project Summary:"
      ],
      "metadata": {
        "id": "X0xxZ07h-RdB"
      }
    },
    {
      "cell_type": "markdown",
      "source": [
        "\n",
        "The aim of this project was to develop a logistic regression model that could predict a person's income based on the available data. Various data transformations were performed, such as changing data types, handling missing values, and reducing the number of entries in certain columns.\n",
        "\n",
        "Next, the data was split into training and testing sets in different proportions, and a logistic regression model was built using the glm function. Additionally, the step function was used to refine the model through variable selection.\n",
        "\n",
        "The model was tested on the test set, and the results were evaluated using various metrics including confusion matrix, ROC curve, AUC, Gini coefficient, and F1-score.\n",
        "\n",
        "Upon analysis, it was found that the obtained model has a lower F1-score compared to the previous model. This indicates that the developed model may have lower balanced accuracy in classification.\n",
        "\n",
        "In summary, although the logistic regression model was built and tested on the available data, there is still room for improvement in its performance through further fine-tuning, selecting relevant variables, or applying other modeling techniques."
      ],
      "metadata": {
        "id": "_t1_M5Bx-OB9"
      }
    }
  ],
  "metadata": {
    "colab": {
      "provenance": [],
      "toc_visible": true
    },
    "kernelspec": {
      "display_name": "R",
      "language": "R",
      "name": "ir"
    },
    "language_info": {
      "codemirror_mode": "r",
      "file_extension": ".r",
      "mimetype": "text/x-r-source",
      "name": "R",
      "pygments_lexer": "r",
      "version": "3.6.1"
    }
  },
  "nbformat": 4,
  "nbformat_minor": 0
}